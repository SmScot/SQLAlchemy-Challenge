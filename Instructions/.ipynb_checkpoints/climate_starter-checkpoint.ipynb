{
 "cells": [
  {
   "cell_type": "code",
   "execution_count": 1,
   "metadata": {},
   "outputs": [],
   "source": [
    "%matplotlib inline\n",
    "from matplotlib import style\n",
    "style.use('fivethirtyeight')\n",
    "import matplotlib.pyplot as plt"
   ]
  },
  {
   "cell_type": "code",
   "execution_count": 2,
   "metadata": {},
   "outputs": [],
   "source": [
    "import numpy as np\n",
    "import pandas as pd"
   ]
  },
  {
   "cell_type": "code",
   "execution_count": 3,
   "metadata": {},
   "outputs": [],
   "source": [
    "import datetime as dt"
   ]
  },
  {
   "cell_type": "markdown",
   "metadata": {},
   "source": [
    "# Reflect Tables into SQLAlchemy ORM"
   ]
  },
  {
   "cell_type": "code",
   "execution_count": 4,
   "metadata": {},
   "outputs": [],
   "source": [
    "# Python SQL toolkit and Object Relational Mapper\n",
    "import sqlalchemy\n",
    "from sqlalchemy.ext.automap import automap_base\n",
    "from sqlalchemy.orm import Session\n",
    "from sqlalchemy import create_engine, func"
   ]
  },
  {
   "cell_type": "code",
   "execution_count": 5,
   "metadata": {},
   "outputs": [],
   "source": [
    "engine = create_engine(\"sqlite:///Resources/hawaii.sqlite\")"
   ]
  },
  {
   "cell_type": "code",
   "execution_count": 6,
   "metadata": {},
   "outputs": [],
   "source": [
    "# reflect an existing database into a new model\n",
    "Base = automap_base()\n",
    "# reflect the tables\n",
    "Base.prepare(engine, reflect=True)"
   ]
  },
  {
   "cell_type": "code",
   "execution_count": 7,
   "metadata": {},
   "outputs": [
    {
     "data": {
      "text/plain": [
       "['measurement', 'station']"
      ]
     },
     "execution_count": 7,
     "metadata": {},
     "output_type": "execute_result"
    }
   ],
   "source": [
    "# We can view all of the classes that automap found\n",
    "Base.classes.keys()"
   ]
  },
  {
   "cell_type": "code",
   "execution_count": 8,
   "metadata": {},
   "outputs": [],
   "source": [
    "# Save references to each table\n",
    "Measurement = Base.classes.measurement\n",
    "Station = Base.classes.station"
   ]
  },
  {
   "cell_type": "code",
   "execution_count": 9,
   "metadata": {},
   "outputs": [],
   "source": [
    "# Create our session (link) from Python to the DB\n",
    "session = Session(engine)"
   ]
  },
  {
   "cell_type": "markdown",
   "metadata": {},
   "source": [
    "# Exploratory Climate Analysis"
   ]
  },
  {
   "cell_type": "code",
   "execution_count": null,
   "metadata": {},
   "outputs": [],
   "source": [
    "# Design a query to retrieve the last 12 months of precipitation data and plot the results"
   ]
  },
  {
   "cell_type": "code",
   "execution_count": 10,
   "metadata": {},
   "outputs": [
    {
     "data": {
      "text/plain": [
       "datetime.date(2016, 8, 23)"
      ]
     },
     "execution_count": 10,
     "metadata": {},
     "output_type": "execute_result"
    }
   ],
   "source": [
    "# Calculate the date 1 year ago from the last data point in the database\n",
    "last_row = session.query(Measurement).order_by(Measurement.id.desc()).first()\n",
    "year_ago = dt.date(2017, 8, 23) - dt.timedelta(days=365)\n",
    "year_ago"
   ]
  },
  {
   "cell_type": "code",
   "execution_count": 11,
   "metadata": {},
   "outputs": [
    {
     "data": {
      "text/plain": [
       "[('2016-08-24', 0.08),\n",
       " ('2016-08-25', 0.08),\n",
       " ('2016-08-26', 0.0),\n",
       " ('2016-08-27', 0.0),\n",
       " ('2016-08-28', 0.01),\n",
       " ('2016-08-29', 0.0),\n",
       " ('2016-08-30', 0.0),\n",
       " ('2016-08-31', 0.13),\n",
       " ('2016-09-01', 0.0),\n",
       " ('2016-09-02', 0.0),\n",
       " ('2016-09-03', 0.0),\n",
       " ('2016-09-04', 0.03),\n",
       " ('2016-09-05', None),\n",
       " ('2016-09-06', None),\n",
       " ('2016-09-07', 0.05),\n",
       " ('2016-09-08', 0.0),\n",
       " ('2016-09-09', 0.03),\n",
       " ('2016-09-10', 0.0),\n",
       " ('2016-09-11', 0.05),\n",
       " ('2016-09-12', 0.0),\n",
       " ('2016-09-13', 0.02),\n",
       " ('2016-09-14', 1.32),\n",
       " ('2016-09-15', 0.42),\n",
       " ('2016-09-16', 0.06),\n",
       " ('2016-09-17', 0.05),\n",
       " ('2016-09-18', 0.0),\n",
       " ('2016-09-19', 0.0),\n",
       " ('2016-09-20', 0.0),\n",
       " ('2016-09-21', 0.0),\n",
       " ('2016-09-22', 0.02),\n",
       " ('2016-09-23', 0.0),\n",
       " ('2016-09-24', 0.0),\n",
       " ('2016-09-25', 0.0),\n",
       " ('2016-09-26', 0.06),\n",
       " ('2016-09-27', 0.02),\n",
       " ('2016-09-28', 0.0),\n",
       " ('2016-09-29', 0.0),\n",
       " ('2016-09-30', 0.0),\n",
       " ('2016-10-01', 0.0),\n",
       " ('2016-10-02', 0.0),\n",
       " ('2016-10-03', 0.0),\n",
       " ('2016-10-04', 0.0),\n",
       " ('2016-10-05', 0.0),\n",
       " ('2016-10-06', 0.0),\n",
       " ('2016-10-07', 0.0),\n",
       " ('2016-10-08', 0.0),\n",
       " ('2016-10-09', 0.0),\n",
       " ('2016-10-10', 0.0),\n",
       " ('2016-10-11', 0.0),\n",
       " ('2016-10-12', 0.0),\n",
       " ('2016-10-13', 0.0),\n",
       " ('2016-10-14', 0.0),\n",
       " ('2016-10-15', 0.0),\n",
       " ('2016-10-16', 0.0),\n",
       " ('2016-10-17', 0.01),\n",
       " ('2016-10-18', 0.0),\n",
       " ('2016-10-19', 0.0),\n",
       " ('2016-10-20', 0.0),\n",
       " ('2016-10-21', 0.05),\n",
       " ('2016-10-22', 0.15),\n",
       " ('2016-10-23', 0.01),\n",
       " ('2016-10-24', 0.0),\n",
       " ('2016-10-25', 0.03),\n",
       " ('2016-10-26', 0.0),\n",
       " ('2016-10-27', 0.0),\n",
       " ('2016-10-28', 0.0),\n",
       " ('2016-10-29', 0.0),\n",
       " ('2016-10-30', 0.24),\n",
       " ('2016-10-31', 0.03),\n",
       " ('2016-11-01', 0.0),\n",
       " ('2016-11-02', 0.0),\n",
       " ('2016-11-03', 0.0),\n",
       " ('2016-11-04', 0.0),\n",
       " ('2016-11-05', 0.0),\n",
       " ('2016-11-06', 0.0),\n",
       " ('2016-11-07', 0.0),\n",
       " ('2016-11-08', 0.07),\n",
       " ('2016-11-09', 0.0),\n",
       " ('2016-11-10', 0.0),\n",
       " ('2016-11-11', 0.0),\n",
       " ('2016-11-12', 0.0),\n",
       " ('2016-11-13', 0.0),\n",
       " ('2016-11-14', 0.0),\n",
       " ('2016-11-15', 0.0),\n",
       " ('2016-11-16', 0.0),\n",
       " ('2016-11-17', 0.0),\n",
       " ('2016-11-18', 0.0),\n",
       " ('2016-11-19', 0.03),\n",
       " ('2016-11-20', 0.05),\n",
       " ('2016-11-21', 0.01),\n",
       " ('2016-11-22', 0.13),\n",
       " ('2016-11-23', 0.14),\n",
       " ('2016-11-24', 0.05),\n",
       " ('2016-11-25', 0.05),\n",
       " ('2016-11-26', 0.05),\n",
       " ('2016-11-27', 0.0),\n",
       " ('2016-11-28', 0.01),\n",
       " ('2016-11-29', 0.0),\n",
       " ('2016-11-30', 0.14),\n",
       " ('2016-12-01', 0.12),\n",
       " ('2016-12-02', 0.03),\n",
       " ('2016-12-03', 0.0),\n",
       " ('2016-12-04', 0.03),\n",
       " ('2016-12-05', 0.43),\n",
       " ('2016-12-06', 0.02),\n",
       " ('2016-12-07', 0.0),\n",
       " ('2016-12-08', 0.03),\n",
       " ('2016-12-09', 0.52),\n",
       " ('2016-12-10', 0.05),\n",
       " ('2016-12-11', 0.04),\n",
       " ('2016-12-12', 0.01),\n",
       " ('2016-12-13', 0.05),\n",
       " ('2016-12-14', 0.03),\n",
       " ('2016-12-15', 0.0),\n",
       " ('2016-12-16', 0.0),\n",
       " ('2016-12-17', 0.01),\n",
       " ('2016-12-18', 0.13),\n",
       " ('2016-12-19', 0.01),\n",
       " ('2016-12-20', 0.0),\n",
       " ('2016-12-21', 0.0),\n",
       " ('2016-12-22', 0.01),\n",
       " ('2016-12-23', 0.01),\n",
       " ('2016-12-24', 0.01),\n",
       " ('2016-12-25', 0.0),\n",
       " ('2016-12-26', 0.02),\n",
       " ('2016-12-27', 0.0),\n",
       " ('2016-12-28', 0.02),\n",
       " ('2016-12-29', 0.04),\n",
       " ('2016-12-30', 0.12),\n",
       " ('2016-12-31', 0.01),\n",
       " ('2017-01-01', 0.0),\n",
       " ('2017-01-02', 0.0),\n",
       " ('2017-01-03', 0.0),\n",
       " ('2017-01-04', 0.0),\n",
       " ('2017-01-05', 0.0),\n",
       " ('2017-01-06', 0.0),\n",
       " ('2017-01-07', 0.0),\n",
       " ('2017-01-08', 0.0),\n",
       " ('2017-01-09', 0.0),\n",
       " ('2017-01-10', 0.0),\n",
       " ('2017-01-11', 0.0),\n",
       " ('2017-01-12', 0.0),\n",
       " ('2017-01-13', 0.0),\n",
       " ('2017-01-14', 0.0),\n",
       " ('2017-01-15', 0.0),\n",
       " ('2017-01-16', 0.0),\n",
       " ('2017-01-17', 0.0),\n",
       " ('2017-01-18', 0.0),\n",
       " ('2017-01-19', 0.0),\n",
       " ('2017-01-20', 0.0),\n",
       " ('2017-01-21', 0.0),\n",
       " ('2017-01-22', 0.16),\n",
       " ('2017-01-23', 0.0),\n",
       " ('2017-01-24', 0.04),\n",
       " ('2017-01-25', 0.03),\n",
       " ('2017-01-26', 0.0),\n",
       " ('2017-01-27', 0.0),\n",
       " ('2017-01-28', 0.0),\n",
       " ('2017-01-29', 0.18),\n",
       " ('2017-01-30', 0.0),\n",
       " ('2017-01-31', 0.0),\n",
       " ('2017-02-01', 0.0),\n",
       " ('2017-02-02', 0.0),\n",
       " ('2017-02-03', 0.0),\n",
       " ('2017-02-04', 0.0),\n",
       " ('2017-02-05', 0.0),\n",
       " ('2017-02-06', 0.0),\n",
       " ('2017-02-07', 0.51),\n",
       " ('2017-02-08', 0.0),\n",
       " ('2017-02-09', 0.0),\n",
       " ('2017-02-10', 0.0),\n",
       " ('2017-02-11', 0.31),\n",
       " ('2017-02-12', 2.62),\n",
       " ('2017-02-13', 0.01),\n",
       " ('2017-02-14', 0.0),\n",
       " ('2017-02-15', 0.0),\n",
       " ('2017-02-16', 0.07),\n",
       " ('2017-02-17', 0.0),\n",
       " ('2017-02-18', 0.0),\n",
       " ('2017-02-19', 0.0),\n",
       " ('2017-02-20', 0.0),\n",
       " ('2017-02-21', 0.06),\n",
       " ('2017-02-22', 0.06),\n",
       " ('2017-02-23', 0.01),\n",
       " ('2017-02-24', 0.0),\n",
       " ('2017-02-25', 0.03),\n",
       " ('2017-02-26', 0.0),\n",
       " ('2017-02-27', 0.0),\n",
       " ('2017-02-28', 0.0),\n",
       " ('2017-03-01', 1.19),\n",
       " ('2017-03-02', 0.73),\n",
       " ('2017-03-03', 0.47),\n",
       " ('2017-03-04', 0.0),\n",
       " ('2017-03-05', 0.35),\n",
       " ('2017-03-06', 0.0),\n",
       " ('2017-03-07', 0.0),\n",
       " ('2017-03-08', 0.0),\n",
       " ('2017-03-09', 0.0),\n",
       " ('2017-03-10', 0.0),\n",
       " ('2017-03-11', 0.0),\n",
       " ('2017-03-12', 0.0),\n",
       " ('2017-03-13', 0.0),\n",
       " ('2017-03-14', 0.0),\n",
       " ('2017-03-15', 0.0),\n",
       " ('2017-03-16', 0.0),\n",
       " ('2017-03-17', 0.0),\n",
       " ('2017-03-18', 0.0),\n",
       " ('2017-03-19', 0.0),\n",
       " ('2017-03-20', 0.0),\n",
       " ('2017-03-21', 0.0),\n",
       " ('2017-03-22', 0.0),\n",
       " ('2017-03-23', 0.0),\n",
       " ('2017-03-24', 0.02),\n",
       " ('2017-03-25', 0.0),\n",
       " ('2017-03-26', 0.0),\n",
       " ('2017-03-27', 0.0),\n",
       " ('2017-03-28', 0.0),\n",
       " ('2017-03-29', 0.0),\n",
       " ('2017-03-30', 0.0),\n",
       " ('2017-03-31', 0.0),\n",
       " ('2017-04-01', 0.0),\n",
       " ('2017-04-02', 0.0),\n",
       " ('2017-04-03', 0.0),\n",
       " ('2017-04-04', 0.0),\n",
       " ('2017-04-05', 0.0),\n",
       " ('2017-04-06', 0.0),\n",
       " ('2017-04-07', 0.0),\n",
       " ('2017-04-08', 0.0),\n",
       " ('2017-04-09', 0.0),\n",
       " ('2017-04-10', 0.0),\n",
       " ('2017-04-11', 0.0),\n",
       " ('2017-04-12', 0.0),\n",
       " ('2017-04-13', 0.0),\n",
       " ('2017-04-14', 0.26),\n",
       " ('2017-04-15', 0.01),\n",
       " ('2017-04-16', 0.0),\n",
       " ('2017-04-17', 0.02),\n",
       " ('2017-04-18', 0.0),\n",
       " ('2017-04-19', 0.02),\n",
       " ('2017-04-20', 0.05),\n",
       " ('2017-04-21', 0.23),\n",
       " ('2017-04-22', 0.32),\n",
       " ('2017-04-23', 0.03),\n",
       " ('2017-04-24', 0.0),\n",
       " ('2017-04-25', 0.0),\n",
       " ('2017-04-26', 0.0),\n",
       " ('2017-04-27', 0.0),\n",
       " ('2017-04-28', 0.0),\n",
       " ('2017-04-29', 0.12),\n",
       " ('2017-04-30', 0.89),\n",
       " ('2017-05-01', 0.26),\n",
       " ('2017-05-02', 0.0),\n",
       " ('2017-05-03', 0.0),\n",
       " ('2017-05-04', 0.0),\n",
       " ('2017-05-05', 0.0),\n",
       " ('2017-05-06', 0.0),\n",
       " ('2017-05-07', 0.0),\n",
       " ('2017-05-08', 0.0),\n",
       " ('2017-05-09', 1.62),\n",
       " ('2017-05-10', 0.0),\n",
       " ('2017-05-11', 0.01),\n",
       " ('2017-05-12', 0.0),\n",
       " ('2017-05-13', 0.0),\n",
       " ('2017-05-14', 0.0),\n",
       " ('2017-05-15', 0.05),\n",
       " ('2017-05-16', 0.01),\n",
       " ('2017-05-17', 0.0),\n",
       " ('2017-05-18', 0.01),\n",
       " ('2017-05-19', 0.0),\n",
       " ('2017-05-20', 0.0),\n",
       " ('2017-05-21', 0.0),\n",
       " ('2017-05-22', 0.0),\n",
       " ('2017-05-23', 0.08),\n",
       " ('2017-05-24', 0.13),\n",
       " ('2017-05-25', 0.15),\n",
       " ('2017-05-26', 0.02),\n",
       " ('2017-05-27', 0.01),\n",
       " ('2017-05-28', 0.02),\n",
       " ('2017-05-29', 0.0),\n",
       " ('2017-05-30', 0.26),\n",
       " ('2017-05-31', 0.02),\n",
       " ('2017-06-01', 0.0),\n",
       " ('2017-06-02', 0.0),\n",
       " ('2017-06-03', 0.02),\n",
       " ('2017-06-04', 0.0),\n",
       " ('2017-06-05', 0.0),\n",
       " ('2017-06-06', 0.0),\n",
       " ('2017-06-07', 0.0),\n",
       " ('2017-06-08', 0.0),\n",
       " ('2017-06-09', 0.0),\n",
       " ('2017-06-10', 0.04),\n",
       " ('2017-06-11', 0.08),\n",
       " ('2017-06-12', 0.02),\n",
       " ('2017-06-13', 0.0),\n",
       " ('2017-06-14', 0.0),\n",
       " ('2017-06-15', 0.0),\n",
       " ('2017-06-16', 0.0),\n",
       " ('2017-06-17', 0.0),\n",
       " ('2017-06-18', 0.05),\n",
       " ('2017-06-19', 0.0),\n",
       " ('2017-06-20', 0.02),\n",
       " ('2017-06-21', 0.0),\n",
       " ('2017-06-22', 0.0),\n",
       " ('2017-06-23', 0.0),\n",
       " ('2017-06-24', 0.06),\n",
       " ('2017-06-25', 0.0),\n",
       " ('2017-06-26', 0.0),\n",
       " ('2017-06-27', 0.0),\n",
       " ('2017-06-28', 0.0),\n",
       " ('2017-06-29', 0.0),\n",
       " ('2017-06-30', 0.08),\n",
       " ('2017-07-01', 0.02),\n",
       " ('2017-07-02', 0.02),\n",
       " ('2017-07-03', 0.04),\n",
       " ('2017-07-04', 0.04),\n",
       " ('2017-07-05', 0.0),\n",
       " ('2017-07-06', 0.0),\n",
       " ('2017-07-07', 0.0),\n",
       " ('2017-07-08', 0.0),\n",
       " ('2017-07-09', 0.0),\n",
       " ('2017-07-10', 0.0),\n",
       " ('2017-07-11', 0.0),\n",
       " ('2017-07-12', 0.0),\n",
       " ('2017-07-13', 0.07),\n",
       " ('2017-07-14', 0.02),\n",
       " ('2017-07-15', 0.0),\n",
       " ('2017-07-16', 0.02),\n",
       " ('2017-07-17', 0.03),\n",
       " ('2017-07-18', 0.05),\n",
       " ('2017-07-19', 0.0),\n",
       " ('2017-07-20', 0.03),\n",
       " ('2017-07-21', 0.0),\n",
       " ('2017-07-22', 0.03),\n",
       " ('2017-07-23', 0.0),\n",
       " ('2017-07-24', 0.05),\n",
       " ('2017-07-25', 0.0),\n",
       " ('2017-07-26', 0.0),\n",
       " ('2017-07-27', 0.0),\n",
       " ('2017-07-28', 0.0),\n",
       " ('2017-07-29', 0.0),\n",
       " ('2017-07-30', 0.0),\n",
       " ('2017-07-31', 0.0),\n",
       " ('2017-08-01', 0.02),\n",
       " ('2017-08-02', 0.0),\n",
       " ('2017-08-03', 0.0),\n",
       " ('2017-08-04', 0.02),\n",
       " ('2017-08-05', 0.0),\n",
       " ('2017-08-06', 0.0),\n",
       " ('2017-08-07', 0.0),\n",
       " ('2017-08-08', 0.0),\n",
       " ('2017-08-09', 0.0),\n",
       " ('2017-08-10', 0.0),\n",
       " ('2017-08-11', 0.0),\n",
       " ('2017-08-12', 0.0),\n",
       " ('2017-08-13', 0.0),\n",
       " ('2017-08-14', 0.0),\n",
       " ('2017-08-15', 0.02),\n",
       " ('2017-08-16', 0.0),\n",
       " ('2017-08-17', 0.0),\n",
       " ('2017-08-18', 0.0),\n",
       " ('2017-08-19', 0.0),\n",
       " ('2017-08-20', 0.0),\n",
       " ('2017-08-21', 0.0),\n",
       " ('2017-08-22', 0.0),\n",
       " ('2017-08-23', 0.0)]"
      ]
     },
     "execution_count": 11,
     "metadata": {},
     "output_type": "execute_result"
    }
   ],
   "source": [
    "# Perform a query to retrieve the data and precipitation scores    \n",
    "filtered_dates_prcp = session.query(Measurement.date, Measurement.prcp).\\\n",
    "    filter(Measurement.date > '2016-08-23').\\\n",
    "    group_by(Measurement.date).\\\n",
    "    order_by(Measurement.date).all()\n",
    "filtered_dates_prcp"
   ]
  },
  {
   "cell_type": "code",
   "execution_count": 12,
   "metadata": {
    "scrolled": true
   },
   "outputs": [
    {
     "data": {
      "text/html": [
       "<div>\n",
       "<style scoped>\n",
       "    .dataframe tbody tr th:only-of-type {\n",
       "        vertical-align: middle;\n",
       "    }\n",
       "\n",
       "    .dataframe tbody tr th {\n",
       "        vertical-align: top;\n",
       "    }\n",
       "\n",
       "    .dataframe thead th {\n",
       "        text-align: right;\n",
       "    }\n",
       "</style>\n",
       "<table border=\"1\" class=\"dataframe\">\n",
       "  <thead>\n",
       "    <tr style=\"text-align: right;\">\n",
       "      <th></th>\n",
       "      <th>prcp</th>\n",
       "    </tr>\n",
       "    <tr>\n",
       "      <th>date</th>\n",
       "      <th></th>\n",
       "    </tr>\n",
       "  </thead>\n",
       "  <tbody>\n",
       "    <tr>\n",
       "      <th>2016-08-24</th>\n",
       "      <td>0.08</td>\n",
       "    </tr>\n",
       "    <tr>\n",
       "      <th>2016-08-25</th>\n",
       "      <td>0.08</td>\n",
       "    </tr>\n",
       "    <tr>\n",
       "      <th>2016-08-26</th>\n",
       "      <td>0.00</td>\n",
       "    </tr>\n",
       "    <tr>\n",
       "      <th>2016-08-27</th>\n",
       "      <td>0.00</td>\n",
       "    </tr>\n",
       "    <tr>\n",
       "      <th>2016-08-28</th>\n",
       "      <td>0.01</td>\n",
       "    </tr>\n",
       "  </tbody>\n",
       "</table>\n",
       "</div>"
      ],
      "text/plain": [
       "            prcp\n",
       "date            \n",
       "2016-08-24  0.08\n",
       "2016-08-25  0.08\n",
       "2016-08-26  0.00\n",
       "2016-08-27  0.00\n",
       "2016-08-28  0.01"
      ]
     },
     "execution_count": 12,
     "metadata": {},
     "output_type": "execute_result"
    }
   ],
   "source": [
    "# Save the query results as a Pandas DataFrame and set the index to the date column\n",
    "# Sort the dataframe by date\n",
    "prcp_df = pd.DataFrame(filtered_dates_prcp, columns = ['date', 'prcp'])\n",
    "prcp_df.set_index('date', inplace = True)\n",
    "prcp_df.head()"
   ]
  },
  {
   "cell_type": "code",
   "execution_count": 13,
   "metadata": {},
   "outputs": [
    {
     "data": {
      "image/png": "[encoded data removed]",
      "text/plain": [
       "<Figure size 1008x432 with 1 Axes>"
      ]
     },
     "metadata": {},
     "output_type": "display_data"
    }
   ],
   "source": [
    "# Use Pandas Plotting with Matplotlib to plot the data\n",
    "prcp_df.prcp.plot(linewidth = 2, figsize = (14,6), title=\"Previous Year's Precipitation Level\")\n",
    "plt.xlabel('Date')\n",
    "plt.ylabel('Precipitation (in)')\n",
    "plt.show()"
   ]
  },
  {
   "cell_type": "code",
   "execution_count": 14,
   "metadata": {},
   "outputs": [
    {
     "data": {
      "text/html": [
       "<div>\n",
       "<style scoped>\n",
       "    .dataframe tbody tr th:only-of-type {\n",
       "        vertical-align: middle;\n",
       "    }\n",
       "\n",
       "    .dataframe tbody tr th {\n",
       "        vertical-align: top;\n",
       "    }\n",
       "\n",
       "    .dataframe thead th {\n",
       "        text-align: right;\n",
       "    }\n",
       "</style>\n",
       "<table border=\"1\" class=\"dataframe\">\n",
       "  <thead>\n",
       "    <tr style=\"text-align: right;\">\n",
       "      <th></th>\n",
       "      <th>Data Points</th>\n",
       "      <th>Mean</th>\n",
       "      <th>Standard Deviation</th>\n",
       "      <th>Median</th>\n",
       "      <th>Interquartile Range</th>\n",
       "      <th>Maximum Value</th>\n",
       "      <th>Minimum Value</th>\n",
       "    </tr>\n",
       "  </thead>\n",
       "  <tbody>\n",
       "    <tr>\n",
       "      <th>0</th>\n",
       "      <td>363</td>\n",
       "      <td>0.048843</td>\n",
       "      <td>0.205197</td>\n",
       "      <td>0.0</td>\n",
       "      <td>0.02</td>\n",
       "      <td>2.62</td>\n",
       "      <td>0.0</td>\n",
       "    </tr>\n",
       "  </tbody>\n",
       "</table>\n",
       "</div>"
      ],
      "text/plain": [
       "   Data Points      Mean  Standard Deviation  Median  Interquartile Range  \\\n",
       "0          363  0.048843            0.205197     0.0                 0.02   \n",
       "\n",
       "   Maximum Value  Minimum Value  \n",
       "0           2.62            0.0  "
      ]
     },
     "execution_count": 14,
     "metadata": {},
     "output_type": "execute_result"
    }
   ],
   "source": [
    "# Use Pandas to calcualte the summary statistics for the precipitation data\n",
    "count = prcp_df['prcp'].count()\n",
    "mean = prcp_df['prcp'].mean()\n",
    "quartiles = prcp_df['prcp'].quantile([.25,.5,.75])\n",
    "lowerq = quartiles[0.25]\n",
    "median = quartiles[0.50]\n",
    "upperq = quartiles[0.75]\n",
    "iqr = upperq-lowerq\n",
    "std = prcp_df['prcp'].std()\n",
    "min = prcp_df['prcp'].min()\n",
    "max = prcp_df['prcp'].max()\n",
    "\n",
    "summary_stats_df = pd.DataFrame({\"Data Points\":[count],\n",
    "                              \"Mean\":[mean],\n",
    "                              \"Standard Deviation\":[std],\n",
    "                             \"Median\":[median],\n",
    "                              \"Interquartile Range\":[iqr],\n",
    "                                 \"Maximum Value\":[max],\n",
    "                                 \"Minimum Value\":[min]})\n",
    "summary_stats_df"
   ]
  },
  {
   "cell_type": "code",
   "execution_count": 15,
   "metadata": {},
   "outputs": [
    {
     "data": {
      "text/plain": [
       "9"
      ]
     },
     "execution_count": 15,
     "metadata": {},
     "output_type": "execute_result"
    }
   ],
   "source": [
    "# Design a query to show how many stations are available in this dataset?\n",
    "available_stations = session.query(Station).count()\n",
    "available_stations"
   ]
  },
  {
   "cell_type": "code",
   "execution_count": 16,
   "metadata": {},
   "outputs": [
    {
     "data": {
      "text/plain": [
       "[('USC00519281', 2772),\n",
       " ('USC00519397', 2724),\n",
       " ('USC00513117', 2709),\n",
       " ('USC00519523', 2669),\n",
       " ('USC00516128', 2612),\n",
       " ('USC00514830', 2202),\n",
       " ('USC00511918', 1979),\n",
       " ('USC00517948', 1372),\n",
       " ('USC00518838', 511)]"
      ]
     },
     "execution_count": 16,
     "metadata": {},
     "output_type": "execute_result"
    }
   ],
   "source": [
    "# What are the most active stations? (i.e. what stations have the most rows)?\n",
    "# List the stations and the counts in descending order.\n",
    "station_activity = session.query(Measurement.station, func.count(Measurement.station)).\\\n",
    "group_by(Measurement.station).\\\n",
    "order_by(func.count(Measurement.station).desc()).all()\n",
    "station_activity"
   ]
  },
  {
   "cell_type": "code",
   "execution_count": 17,
   "metadata": {},
   "outputs": [
    {
     "data": {
      "text/plain": [
       "[('USC00519281', 54.0, 85.0, 71.66378066378067)]"
      ]
     },
     "execution_count": 17,
     "metadata": {},
     "output_type": "execute_result"
    }
   ],
   "source": [
    "# Using the station id from the previous query, calculate the lowest temperature recorded, \n",
    "# highest temperature recorded, and average temperature of the most active station?\n",
    "temp_stats = session.query(Measurement.station, func.min(Measurement.tobs), func.max(Measurement.tobs), func.avg(Measurement.tobs)).\\\n",
    "    filter(Measurement.station == station_activity[0][0]).all()\n",
    "temp_stats"
   ]
  },
  {
   "cell_type": "code",
   "execution_count": 55,
   "metadata": {},
   "outputs": [
    {
     "data": {
      "text/html": [
       "<div>\n",
       "<style scoped>\n",
       "    .dataframe tbody tr th:only-of-type {\n",
       "        vertical-align: middle;\n",
       "    }\n",
       "\n",
       "    .dataframe tbody tr th {\n",
       "        vertical-align: top;\n",
       "    }\n",
       "\n",
       "    .dataframe thead th {\n",
       "        text-align: right;\n",
       "    }\n",
       "</style>\n",
       "<table border=\"1\" class=\"dataframe\">\n",
       "  <thead>\n",
       "    <tr style=\"text-align: right;\">\n",
       "      <th></th>\n",
       "      <th>date</th>\n",
       "      <th>tobs</th>\n",
       "    </tr>\n",
       "  </thead>\n",
       "  <tbody>\n",
       "    <tr>\n",
       "      <th>0</th>\n",
       "      <td>2016-08-24</td>\n",
       "      <td>77.0</td>\n",
       "    </tr>\n",
       "    <tr>\n",
       "      <th>1</th>\n",
       "      <td>2016-08-25</td>\n",
       "      <td>80.0</td>\n",
       "    </tr>\n",
       "    <tr>\n",
       "      <th>2</th>\n",
       "      <td>2016-08-26</td>\n",
       "      <td>80.0</td>\n",
       "    </tr>\n",
       "    <tr>\n",
       "      <th>3</th>\n",
       "      <td>2016-08-27</td>\n",
       "      <td>75.0</td>\n",
       "    </tr>\n",
       "    <tr>\n",
       "      <th>4</th>\n",
       "      <td>2016-08-28</td>\n",
       "      <td>73.0</td>\n",
       "    </tr>\n",
       "  </tbody>\n",
       "</table>\n",
       "</div>"
      ],
      "text/plain": [
       "         date  tobs\n",
       "0  2016-08-24  77.0\n",
       "1  2016-08-25  80.0\n",
       "2  2016-08-26  80.0\n",
       "3  2016-08-27  75.0\n",
       "4  2016-08-28  73.0"
      ]
     },
     "execution_count": 55,
     "metadata": {},
     "output_type": "execute_result"
    }
   ],
   "source": [
    "# Choose the station with the highest number of temperature observations.\n",
    "# Query the last 12 months of temperature observation data for this station and plot the results as a histogram\n",
    "filtered_dates_tobs = session.query(Measurement.date, Measurement.tobs).\\\n",
    "    filter(Measurement.date > '2016-08-23').\\\n",
    "    filter(Measurement.station == station_activity[0][0]).\\\n",
    "    group_by(Measurement.date).\\\n",
    "    order_by(Measurement.date).all()\n",
    "\n",
    "tobs_df = pd.DataFrame(filtered_dates_tobs, columns = ['date', 'tobs'])\n",
    "tobs_df.head()"
   ]
  },
  {
   "cell_type": "code",
   "execution_count": 68,
   "metadata": {},
   "outputs": [
    {
     "data": {
      "image/png": "[encoded data removed]",
      "text/plain": [
       "<Figure size 432x288 with 1 Axes>"
      ]
     },
     "metadata": {},
     "output_type": "display_data"
    }
   ],
   "source": [
    "plt.hist(tobs_df['tobs'], density = False, bins = 12)\n",
    "plt.title(\"Previous Year's Temperature's\")\n",
    "plt.xlabel('Temperature (F)')\n",
    "plt.ylabel('Frequency')\n",
    "plt.show()"
   ]
  },
  {
   "cell_type": "markdown",
   "metadata": {},
   "source": [
    "## Bonus Challenge Assignment"
   ]
  },
  {
   "cell_type": "code",
   "execution_count": null,
   "metadata": {},
   "outputs": [],
   "source": [
    "# This function called `calc_temps` will accept start date and end date in the format '%Y-%m-%d' \n",
    "# and return the minimum, average, and maximum temperatures for that range of dates\n",
    "def calc_temps(start_date, end_date):\n",
    "    \"\"\"TMIN, TAVG, and TMAX for a list of dates.\n",
    "    \n",
    "    Args:\n",
    "        start_date (string): A date string in the format %Y-%m-%d\n",
    "        end_date (string): A date string in the format %Y-%m-%d\n",
    "        \n",
    "    Returns:\n",
    "        TMIN, TAVE, and TMAX\n",
    "    \"\"\"\n",
    "    \n",
    "    return session.query(func.min(Measurement.tobs), func.avg(Measurement.tobs), func.max(Measurement.tobs)).\\\n",
    "        filter(Measurement.date >= start_date).filter(Measurement.date <= end_date).all()\n",
    "\n",
    "# function usage example\n",
    "print(calc_temps('2012-02-28', '2012-03-05'))"
   ]
  },
  {
   "cell_type": "code",
   "execution_count": null,
   "metadata": {},
   "outputs": [],
   "source": [
    "# Use your previous function `calc_temps` to calculate the tmin, tavg, and tmax \n",
    "# for your trip using the previous year's data for those same dates.\n"
   ]
  },
  {
   "cell_type": "code",
   "execution_count": null,
   "metadata": {},
   "outputs": [],
   "source": [
    "# Plot the results from your previous query as a bar chart. \n",
    "# Use \"Trip Avg Temp\" as your Title\n",
    "# Use the average temperature for the y value\n",
    "# Use the peak-to-peak (tmax-tmin) value as the y error bar (yerr)\n"
   ]
  },
  {
   "cell_type": "code",
   "execution_count": null,
   "metadata": {},
   "outputs": [],
   "source": [
    "# Calculate the total amount of rainfall per weather station for your trip dates using the previous year's matching dates.\n",
    "# Sort this in descending order by precipitation amount and list the station, name, latitude, longitude, and elevation\n",
    "\n"
   ]
  },
  {
   "cell_type": "code",
   "execution_count": null,
   "metadata": {},
   "outputs": [],
   "source": [
    "# Create a query that will calculate the daily normals \n",
    "# (i.e. the averages for tmin, tmax, and tavg for all historic data matching a specific month and day)\n",
    "\n",
    "def daily_normals(date):\n",
    "    \"\"\"Daily Normals.\n",
    "    \n",
    "    Args:\n",
    "        date (str): A date string in the format '%m-%d'\n",
    "        \n",
    "    Returns:\n",
    "        A list of tuples containing the daily normals, tmin, tavg, and tmax\n",
    "    \n",
    "    \"\"\"\n",
    "    \n",
    "    sel = [func.min(Measurement.tobs), func.avg(Measurement.tobs), func.max(Measurement.tobs)]\n",
    "    return session.query(*sel).filter(func.strftime(\"%m-%d\", Measurement.date) == date).all()\n",
    "    \n",
    "daily_normals(\"01-01\")"
   ]
  },
  {
   "cell_type": "code",
   "execution_count": null,
   "metadata": {},
   "outputs": [],
   "source": [
    "# calculate the daily normals for your trip\n",
    "# push each tuple of calculations into a list called `normals`\n",
    "\n",
    "# Set the start and end date of the trip\n",
    "\n",
    "# Use the start and end date to create a range of dates\n",
    "\n",
    "# Stip off the year and save a list of %m-%d strings\n",
    "\n",
    "# Loop through the list of %m-%d strings and calculate the normals for each date\n"
   ]
  },
  {
   "cell_type": "code",
   "execution_count": null,
   "metadata": {},
   "outputs": [],
   "source": [
    "# Load the previous query results into a Pandas DataFrame and add the `trip_dates` range as the `date` index\n"
   ]
  },
  {
   "cell_type": "code",
   "execution_count": null,
   "metadata": {},
   "outputs": [],
   "source": [
    "# Plot the daily normals as an area plot with `stacked=False`\n"
   ]
  }
 ],
 "metadata": {
  "celltoolbar": "Raw Cell Format",
  "kernel_info": {
   "name": "python3"
  },
  "kernelspec": {
   "display_name": "Python 3",
   "language": "python",
   "name": "python3"
  },
  "language_info": {
   "codemirror_mode": {
    "name": "ipython",
    "version": 3
   },
   "file_extension": ".py",
   "mimetype": "text/x-python",
   "name": "python",
   "nbconvert_exporter": "python",
   "pygments_lexer": "ipython3",
   "version": "3.6.10"
  },
  "nteract": {
   "version": "0.12.3"
  },
  "varInspector": {
   "cols": {
    "lenName": 16,
    "lenType": 16,
    "lenVar": 40
   },
   "kernels_config": {
    "python": {
     "delete_cmd_postfix": "",
     "delete_cmd_prefix": "del ",
     "library": "var_list.py",
     "varRefreshCmd": "print(var_dic_list())"
    },
    "r": {
     "delete_cmd_postfix": ") ",
     "delete_cmd_prefix": "rm(",
     "library": "var_list.r",
     "varRefreshCmd": "cat(var_dic_list()) "
    }
   },
   "types_to_exclude": [
    "module",
    "function",
    "builtin_function_or_method",
    "instance",
    "_Feature"
   ],
   "window_display": false
  }
 },
 "nbformat": 4,
 "nbformat_minor": 2
}
